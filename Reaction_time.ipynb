{
  "nbformat": 4,
  "nbformat_minor": 0,
  "metadata": {
    "anaconda-cloud": {},
    "kernelspec": {
      "display_name": "Python 3",
      "language": "python",
      "name": "python3"
    },
    "language_info": {
      "codemirror_mode": {
        "name": "ipython",
        "version": 3
      },
      "file_extension": ".py",
      "mimetype": "text/x-python",
      "name": "python",
      "nbconvert_exporter": "python",
      "pygments_lexer": "ipython3",
      "version": "3.7.3"
    },
    "toc": {
      "base_numbering": 1,
      "nav_menu": {
        "height": "264px",
        "width": "252px"
      },
      "number_sections": false,
      "sideBar": true,
      "skip_h1_title": false,
      "title_cell": "Table of Contents",
      "title_sidebar": "Contents",
      "toc_cell": true,
      "toc_position": {
        "height": "calc(100% - 180px)",
        "left": "10px",
        "top": "150px",
        "width": "269px"
      },
      "toc_section_display": "block",
      "toc_window_display": true
    },
    "colab": {
      "name": "Reaction time.ipynb",
      "provenance": [],
      "collapsed_sections": [
        "FQmFbyttHEtp",
        "vBY2GRzDHEts",
        "h2wqAbj5HEt2",
        "6w1DjZjjHEt-"
      ]
    }
  },
  "cells": [
    {
      "cell_type": "markdown",
      "metadata": {
        "id": "PRMgMFBHHEo3",
        "colab_type": "text"
      },
      "source": [
        "# Graded Assignment 2 - Reaction times<span class=\"tocSkip\"></span>"
      ]
    },
    {
      "cell_type": "markdown",
      "metadata": {
        "toc": "true",
        "id": "WRTCS8q0HEo6",
        "colab_type": "text"
      },
      "source": [
        "<h1>Table of Contents<span class=\"tocSkip\"></span></h1>\n",
        "<div class=\"toc\"><ul class=\"toc-item\"><li><span><a href=\"#Assignment\" data-toc-modified-id=\"Assignment-1\">Assignment</a></span><ul class=\"toc-item\"><li><span><a href=\"#Organizational-matters\" data-toc-modified-id=\"Organizational-matters-1.1\">Organizational matters</a></span></li><li><span><a href=\"#Introduction\" data-toc-modified-id=\"Introduction-1.2\">Introduction</a></span></li><li><span><a href=\"#Problem-statement\" data-toc-modified-id=\"Problem-statement-1.3\">Problem statement</a></span></li><li><span><a href=\"#Your-tasks\" data-toc-modified-id=\"Your-tasks-1.4\">Your tasks</a></span></li><li><span><a href=\"#Steps\" data-toc-modified-id=\"Steps-1.5\">Steps</a></span></li><li><span><a href=\"#Mouse-experiment\" data-toc-modified-id=\"Mouse-experiment-1.6\">Mouse experiment</a></span></li><li><span><a href=\"#The-dataset\" data-toc-modified-id=\"The-dataset-1.7\">The dataset</a></span></li></ul></li><li><span><a href=\"#Your-code\" data-toc-modified-id=\"Your-code-2\">Your code</a></span><ul class=\"toc-item\"><li><span><a href=\"#Loading-the-libraries\" data-toc-modified-id=\"Loading-the-libraries-2.1\">Loading the libraries</a></span></li><li><span><a href=\"#Step-1.-Re-organize-the-dataset\" data-toc-modified-id=\"Step-1.-Re-organize-the-dataset-2.2\">Step 1. Re-organize the dataset</a></span></li><li><span><a href=\"#Step-2.-Define-reaction-times\" data-toc-modified-id=\"Step-2.-Define-reaction-times-2.3\">Step 2. Define reaction times</a></span></li><li><span><a href=\"#Step-3.-Perform-tests-on-the-data-to-see-if-it-meets-expectations\" data-toc-modified-id=\"Step-3.-Perform-tests-on-the-data-to-see-if-it-meets-expectations-2.4\">Step 3. Perform tests on the data to see if it meets expectations</a></span></li><li><span><a href=\"#Step-4.-Clean-the-data\" data-toc-modified-id=\"Step-4.-Clean-the-data-2.5\">Step 4. Clean the data</a></span></li><li><span><a href=\"#Step-5.-Exploratory-data-analysis-and-visualization\" data-toc-modified-id=\"Step-5.-Exploratory-data-analysis-and-visualization-2.6\">Step 5. Exploratory data analysis and visualization</a></span></li><li><span><a href=\"#Step-6.-Formulate-and-test-a-hypothesis\" data-toc-modified-id=\"Step-6.-Formulate-and-test-a-hypothesis-2.7\">Step 6. Formulate and test a hypothesis</a></span></li><li><span><a href=\"#Extra-code-for-the-poster\" data-toc-modified-id=\"Extra-code-for-the-poster-2.8\">Extra code for the poster</a></span></li></ul></li><li><span><a href=\"#List-of-all-defined-names\" data-toc-modified-id=\"List-of-all-defined-names-3\">List of all defined names</a></span></li><li><span><a href=\"#(End-of-Notebook)\" data-toc-modified-id=\"(End-of-Notebook)-4\">(End of Notebook)</a></span></li></ul></div>"
      ]
    },
    {
      "cell_type": "markdown",
      "metadata": {
        "id": "fJ0l0vspHEo8",
        "colab_type": "text"
      },
      "source": [
        "\n",
        "**Do not write anything _outside_ marker lines `BEGIN_TODO ... END_TODO`**.\n",
        "\n",
        "## Introduction\n",
        "\n",
        "If a new message appears on your phone, you want to be able to react easily and quickly. In a computer game, your reaction time may be the difference between winning and losing. In some jobs, reaction time is important as well: a pilot needs to be able to quickly respond to changing situations on the screen.\n",
        "\n",
        "## Problem statement\n",
        "\n",
        "In this assignment, we will investigate to what extent the reaction time is related to the difficulty of the task. We will base the investigation on the large amount of **mouse experiment** data that we have collected earlier in the course (described below).\n",
        "\n",
        "\n",
        "\n",
        "## Your tasks\n",
        "\n",
        "- Read the description of the mouse experiment in the \"mouse experiment\" assignment on Canvas.\n",
        "- Think of a feature in the data, or that you can compute on the data, that somehow expresses the difficulty of the task for the user.\n",
        "- Formulate a hypothesis about the relation between the chosen feature and the reaction time, and test the hypothesis.\n",
        "- Investigate both the absolute values of the reaction time in seconds and the proportion the reaction time makes up of the duration of the whole movement."
      ]
    },
    {
      "cell_type": "markdown",
      "metadata": {
        "id": "fxPhjasJHEo8",
        "colab_type": "text"
      },
      "source": [
        "## Steps\n",
        "\n",
        "In this assignment, we will go through the following steps.\n",
        "\n",
        "1. Re-organize the dataset\n",
        "2. Define reaction time\n",
        "3. Perform tests on the data to see if it meets our expectations\n",
        "4. Clean the data\n",
        "5. Explore the data to find a feature to investigate\n",
        "6. Formulate and test a hypothesis"
      ]
    },
    {
      "cell_type": "markdown",
      "metadata": {
        "id": "lKWqJunOHEo-",
        "colab_type": "text"
      },
      "source": [
        "---\n",
        "\n",
        "## Mouse experiment\n",
        "\n",
        "In the mouse experiment, we collected data on mouse and trackpad usage by a small computer program. The same computer program was also used in the DAS programming exercises. It worked as follows.\n",
        "\n",
        "First, the program asked the user to enter some basic information, for instance the study major of the user,  whether the user would ordinarily write with the right or left hand, would ordinarily use the mouse with the right or the left hand, or would use the trackpad with the right or the left hand.\n",
        "\n",
        "The experiment itself worked as follows. The user was asked to move their mouse onto the square (of size $11\\times11$ pixels) in the center of the window.\n",
        "After some random delay, given that the user kept the mouse on the square the whole time, a target (a small disk) would appear, at a random distance from the origin in one of eight possible directions. After the target appeared, the user would move the mouse and click on the target.\n",
        "\n",
        "![example_trajectory.png](attachment:example_trajectory.png)\n",
        "\n",
        "Meanwhile, the program would record the trajectory of the mouse or trackpad. At (possibly irregular) time points, it gets an update from the operating system on the current position of the mouse. It then stores a list of time points, or time stamps, together with the corresponding $x$ and $y$-coordinates. The $x$-axis is horizontal, and the $y$-axis is vertical. The origin, where $(x,y)=(0,0)$, exactly corresponds to the center of the square in the middle of the screen.\n",
        "\n",
        "\n",
        "The delay, target radius, target distance, and target direction are all chosen at random. The distributions are as follows.\n",
        "* The delay is chosen uniformly between 2 and 4 seconds\n",
        "* The target radius is sampled uniformly at random from either 3, 6 or 9 pixels\n",
        "* The target distance is chosen uniformly at random from 100 to 290 pixels from the origin\n",
        "* The target direction is chosen uniformly from angles -135, -90, -45, 0, 45, 90, 135, 180 degrees with respect to the positive $x$-axis\n",
        "\n",
        "Users were encouraged to collect fifteen trajectories with a trackpad, and fifteen trajectories with a mouse. Moreover, users were instructed to use the hand that they would normally use for that input device."
      ]
    },
    {
      "cell_type": "markdown",
      "metadata": {
        "id": "puJdj4D6HEo_",
        "colab_type": "text"
      },
      "source": [
        "## The dataset\n",
        "\n",
        "During the mouse experiment a lot of information was collected. Note that some of it will be irrelevant for answering the question. It is part of the assignment to figure out which information is relevant.\n",
        "\n",
        "The data for this assignment resides in the SQLite database `datasets/mouse_experiment.db`. It contains three tables: **paths**, **trials** and **users**, described below.\n",
        "\n",
        "###  The <font color=\"red\">paths</font> table\n",
        "This table contains information on recorded mouse trajectories. Every row corresponds to a point on the path, and it contains the following information.\n",
        "\n",
        "|Field  | Type | Description | \n",
        "|:-------|:----|:----|\n",
        "|user| int | user id |\n",
        "|trial| int | trial number for this user|\n",
        "|t | int | time in s since the moment the target was shown |\n",
        "|x| int | x-coordinate in pixels | \n",
        "|y| int | y-coordinate in pixels |\n",
        "\n",
        "Every path starts at time $t=0$, and at a location close to the origin $(x,y) = (0,0)$.\n",
        "\n",
        "###  The <font color=\"red\">trials</font> table\n",
        "A row in this table contains information about a particular trajectory.\n",
        "\n",
        "|Field  | Type | Description | \n",
        "|:-------|:----|:----|\n",
        "|user| int | user id |\n",
        "|trial| int | trial number for this user |\n",
        "|delay| float | the delay in seconds between the hovering over middle square and the appearance of the target |\n",
        "|input_method| int | whether input method was a trackpad (`0`) or a mouse (`1`) |\n",
        "|mouse_acceleration| int | `0` if mouse acceleration is not used (\\*) |\n",
        "|mouse_speed_rec| int | speed setting of the mouse between `0` and `20` (`-1` if it could not be determined) |\n",
        "|mouse_threshold_1| int | first acceleration parameter of the mouse (\\*) |\n",
        "|mouse_threshold_2| int | second acceleration parameter of the mouse (\\*) |\n",
        "|screen_height| int | the height of the screen in pixels |\n",
        "|screen_width| int | the width of the screen in pixels |\n",
        "|target_radius| int | the radius of the target in pixels |\n",
        "|target_x| int | the $x$-coordinate of the target in pixels |\n",
        "|target_y| int | the $y$-coordinate of the target in pixels |\n",
        "|touchpad_honor| int | if `1`, touchpad honors acceleration settings of the mouse |\n",
        "|touchpad_speed| int | speed setting of the touchpad between `0` and `20` (`-1` if it could not be determined) |\n",
        "|trial_for_input_method| int | the number of times this particular input method was used (count started at `0`) |\n",
        "\n",
        "(\\*) See https://docs.microsoft.com/en-us/windows/win32/api/winuser/nf-winuser-mouse_event for more information on the mouse threshold and mouse acceleration parameters.\n",
        "\n",
        "###  The <font color=\"red\">users</font> table\n",
        "A row in this table contains information about a particular user.\n",
        "\n",
        "|Field  | Type | Description | \n",
        "|:-------|:----|:----|\n",
        "|user | int | user id |\n",
        "|use_laptop | int | whether a laptop was used|\n",
        "|mouse_speed| int | if `1`, then user indicates having set mouse speed to medium (corresponding to speed `10`)|\n",
        "|mouse_accuracy| int | if `1`, then user indicates having activated enhanced mouse accuracy |\n",
        "|trackpad_speed_set| int | if `1`, then user indicates having set the trackpad speed to medium |\n",
        "|right_handed | int | whether user uses right hand (`1`) or left hand (`0`) to write |\n",
        "|right_trackpad_handed| int | whether user uses right hand (`1`) or left hand (`0`) for trackpad |\n",
        "|right_mouse_handed| int | whether user uses right hand (`1`) or left hand (`0`) for mouse |\n",
        "|major | string | the major of the user |"
      ]
    },
    {
      "cell_type": "markdown",
      "metadata": {
        "id": "OxX1XGsfHEpA",
        "colab_type": "text"
      },
      "source": [
        "# Your code\n",
        "\n",
        "* Feel free to add new cells _between_ the marker lines.\n",
        "* We recommend that you keep this code _neatly organized_.\n",
        "* Keep in mind that you **must not write anything _outside_ marker lines `BEGIN_TODO ... END_TODO`**."
      ]
    },
    {
      "cell_type": "markdown",
      "metadata": {
        "id": "rayt7fF_HEpC",
        "colab_type": "text"
      },
      "source": [
        "---\n",
        "\n",
        "## Loading the libraries"
      ]
    },
    {
      "cell_type": "code",
      "metadata": {
        "id": "Da353WN1N-MI",
        "colab_type": "code",
        "outputId": "0fcc708d-1231-490d-dc82-777ec19ba695",
        "colab": {
          "base_uri": "https://localhost:8080/",
          "height": 34
        }
      },
      "source": [
        "from google.colab import drive\n",
        "drive.mount('/content/drive')"
      ],
      "execution_count": 20,
      "outputs": [
        {
          "output_type": "stream",
          "text": [
            "Drive already mounted at /content/drive; to attempt to forcibly remount, call drive.mount(\"/content/drive\", force_remount=True).\n"
          ],
          "name": "stdout"
        }
      ]
    },
    {
      "cell_type": "code",
      "metadata": {
        "id": "kANF4qTGHEpD",
        "colab_type": "code",
        "colab": {}
      },
      "source": [
        "import numpy as np\n",
        "import pandas as pd\n",
        "import statsmodels.api as sm\n",
        "import sqlite3\n",
        "from scipy import stats\n",
        "from scipy.stats import *\n",
        "\n",
        "# next command ensures that plots appear inside the notebook\n",
        "%matplotlib inline\n",
        "import matplotlib as mpl\n",
        "import matplotlib.pyplot as plt\n",
        "import seaborn as sns  # also improves the look of plots\n",
        "sns.set()\n",
        "plt.rcParams['figure.figsize'] = 10, 5  # default hor./vert. size of plots, in inches\n",
        "plt.rcParams['lines.markeredgewidth'] = 1  # to fix issue with seaborn box plots; needed after import seaborn"
      ],
      "execution_count": 0,
      "outputs": []
    },
    {
      "cell_type": "markdown",
      "metadata": {
        "id": "aV4_2AnLHEpO",
        "colab_type": "text"
      },
      "source": [
        "## Step 1. Re-organize the dataset\n",
        "\n",
        "1. Store the *paths*, *trials*, and *users* tables from the database in *Pandas* dataframes `df_paths`, `df_trials` and `df_users` respectively. Set the index of `df_paths` to (the multi-index) `['user', 'trial', 't']`, of `df_trials` to (the multi-index) `['user', 'trial']` and of `df_users` to `'user'`."
      ]
    },
    {
      "cell_type": "code",
      "metadata": {
        "id": "LJnpul0xHEpO",
        "colab_type": "code",
        "colab": {}
      },
      "source": [
        "#// BEGIN_TODO [Preliminaries] (3 points)"
      ],
      "execution_count": 0,
      "outputs": []
    },
    {
      "cell_type": "code",
      "metadata": {
        "id": "lPUzMB_xHEpS",
        "colab_type": "code",
        "colab": {}
      },
      "source": [
        "\n",
        "conn = sqlite3.connect('/content/drive/My Drive/mouse_experiment.db')\n",
        "\n",
        "df_paths = pd.read_sql_query(\"SELECT * FROM paths\", conn)\n",
        "df_paths.set_index(['user', 'trial', 't'], inplace=True);\n",
        "\n",
        "df_trials = pd.read_sql_query(\"SELECT * FROM trials\", conn)\n",
        "df_trials.set_index(['user', 'trial'], inplace=True);\n",
        "\n",
        "df_users = pd.read_sql_query(\"SELECT * FROM users\", conn)\n",
        "df_users.set_index(\"user\");"
      ],
      "execution_count": 0,
      "outputs": []
    },
    {
      "cell_type": "code",
      "metadata": {
        "id": "p1Cr2wFqHEpc",
        "colab_type": "code",
        "colab": {}
      },
      "source": [
        "#// END_TODO [Preliminaries]"
      ],
      "execution_count": 0,
      "outputs": []
    },
    {
      "cell_type": "markdown",
      "metadata": {
        "id": "mcHdxk0qHEpi",
        "colab_type": "text"
      },
      "source": [
        "## Step 2. Define reaction times\n",
        "\n",
        "How should we define the reaction time?\n",
        "\n",
        "### 2.1 First definition of reaction time\n",
        "\n",
        "Let us first investigate the following suggested definition: the reaction time for a trial is the first nonzero time stamp in the paths table. The reason for this choice is the following: the operating system only sends updates on the mouse position to the computer program if the mouse is actually moved. This would therefore correspond to the first time the mouse is moved after the target appeared.\n",
        "\n",
        "1. Use an SQL query to create a table with columns containing the user id, the trial id and the reaction time according to this definition. Store the query itself as a string in a variable `query_reaction_1`. Store the table in a dataframe named `df_reaction_1`. Rename the columns to `'user'`, `'trial'` and `'reaction_time_1'`. Set the index of `df_reaction_1` to `['user', 'trial']`.\n",
        "\n",
        "2. Make a violin plot or density plot of the reaction time according to this definition. Make sure to pick a good range for the $x$-axis."
      ]
    },
    {
      "cell_type": "code",
      "metadata": {
        "id": "otZx0F12HEpj",
        "colab_type": "code",
        "colab": {}
      },
      "source": [
        "#// BEGIN_TODO [Reaction_Time_1] (6 points)"
      ],
      "execution_count": 0,
      "outputs": []
    },
    {
      "cell_type": "code",
      "metadata": {
        "id": "faOY5pkLHEpo",
        "colab_type": "code",
        "colab": {}
      },
      "source": [
        "query_reaction_1 = '''\n",
        "SELECT user, trial, MIN(t) AS 'reaction_time_1'\n",
        "FROM paths\n",
        "WHERE t>0\n",
        "GROUP BY user, trial\n",
        "'''"
      ],
      "execution_count": 0,
      "outputs": []
    },
    {
      "cell_type": "code",
      "metadata": {
        "id": "KytOJcfeHEpv",
        "colab_type": "code",
        "outputId": "b6ccb78a-0fb4-4c7e-b3c4-95468788416b",
        "colab": {
          "base_uri": "https://localhost:8080/",
          "height": 450
        }
      },
      "source": [
        "df_reaction_1 = pd.read_sql_query(query_reaction_1, conn)\n",
        "df_reaction_1.set_index(['user','trial'], inplace=True)\n",
        "df_reaction_1"
      ],
      "execution_count": 27,
      "outputs": [
        {
          "output_type": "execute_result",
          "data": {
            "text/html": [
              "<div>\n",
              "<style scoped>\n",
              "    .dataframe tbody tr th:only-of-type {\n",
              "        vertical-align: middle;\n",
              "    }\n",
              "\n",
              "    .dataframe tbody tr th {\n",
              "        vertical-align: top;\n",
              "    }\n",
              "\n",
              "    .dataframe thead th {\n",
              "        text-align: right;\n",
              "    }\n",
              "</style>\n",
              "<table border=\"1\" class=\"dataframe\">\n",
              "  <thead>\n",
              "    <tr style=\"text-align: right;\">\n",
              "      <th></th>\n",
              "      <th></th>\n",
              "      <th>reaction_time_1</th>\n",
              "    </tr>\n",
              "    <tr>\n",
              "      <th>user</th>\n",
              "      <th>trial</th>\n",
              "      <th></th>\n",
              "    </tr>\n",
              "  </thead>\n",
              "  <tbody>\n",
              "    <tr>\n",
              "      <th rowspan=\"5\" valign=\"top\">1</th>\n",
              "      <th>5</th>\n",
              "      <td>0.324846</td>\n",
              "    </tr>\n",
              "    <tr>\n",
              "      <th>6</th>\n",
              "      <td>0.393842</td>\n",
              "    </tr>\n",
              "    <tr>\n",
              "      <th>7</th>\n",
              "      <td>0.423749</td>\n",
              "    </tr>\n",
              "    <tr>\n",
              "      <th>8</th>\n",
              "      <td>0.443900</td>\n",
              "    </tr>\n",
              "    <tr>\n",
              "      <th>9</th>\n",
              "      <td>0.367530</td>\n",
              "    </tr>\n",
              "    <tr>\n",
              "      <th>...</th>\n",
              "      <th>...</th>\n",
              "      <td>...</td>\n",
              "    </tr>\n",
              "    <tr>\n",
              "      <th rowspan=\"5\" valign=\"top\">2995</th>\n",
              "      <th>30</th>\n",
              "      <td>0.991101</td>\n",
              "    </tr>\n",
              "    <tr>\n",
              "      <th>31</th>\n",
              "      <td>0.772922</td>\n",
              "    </tr>\n",
              "    <tr>\n",
              "      <th>32</th>\n",
              "      <td>1.523124</td>\n",
              "    </tr>\n",
              "    <tr>\n",
              "      <th>33</th>\n",
              "      <td>0.612417</td>\n",
              "    </tr>\n",
              "    <tr>\n",
              "      <th>34</th>\n",
              "      <td>0.598583</td>\n",
              "    </tr>\n",
              "  </tbody>\n",
              "</table>\n",
              "<p>29295 rows × 1 columns</p>\n",
              "</div>"
            ],
            "text/plain": [
              "            reaction_time_1\n",
              "user trial                 \n",
              "1    5             0.324846\n",
              "     6             0.393842\n",
              "     7             0.423749\n",
              "     8             0.443900\n",
              "     9             0.367530\n",
              "...                     ...\n",
              "2995 30            0.991101\n",
              "     31            0.772922\n",
              "     32            1.523124\n",
              "     33            0.612417\n",
              "     34            0.598583\n",
              "\n",
              "[29295 rows x 1 columns]"
            ]
          },
          "metadata": {
            "tags": []
          },
          "execution_count": 27
        }
      ]
    },
    {
      "cell_type": "code",
      "metadata": {
        "id": "sMS1HRPoHEp3",
        "colab_type": "code",
        "outputId": "04efb0a0-508f-4ee5-d872-7d5f5a483d56",
        "colab": {
          "base_uri": "https://localhost:8080/",
          "height": 340
        }
      },
      "source": [
        "sns.violinplot(data=df_reaction_1)"
      ],
      "execution_count": 28,
      "outputs": [
        {
          "output_type": "execute_result",
          "data": {
            "text/plain": [
              "<matplotlib.axes._subplots.AxesSubplot at 0x7f9f1d4bf860>"
            ]
          },
          "metadata": {
            "tags": []
          },
          "execution_count": 28
        },
        {
          "output_type": "display_data",
          "data": {
            "image/png": "[encoded data removed]",
            "text/plain": [
              "<Figure size 720x360 with 1 Axes>"
            ]
          },
          "metadata": {
            "tags": []
          }
        }
      ]
    },
    {
      "cell_type": "code",
      "metadata": {
        "id": "Z4ylhPP6HEqA",
        "colab_type": "code",
        "colab": {}
      },
      "source": [
        "#// END_TODO [Reaction_Time_1]"
      ],
      "execution_count": 0,
      "outputs": []
    },
    {
      "cell_type": "markdown",
      "metadata": {
        "id": "41Mg5nm9HEqJ",
        "colab_type": "text"
      },
      "source": [
        "3. What is surprising about the above graph? Can you find an explanation for it? Store your answer in a string called `surprising`."
      ]
    },
    {
      "cell_type": "code",
      "metadata": {
        "id": "88zmLDccHEqN",
        "colab_type": "code",
        "colab": {}
      },
      "source": [
        "#// BEGIN_TODO [Surprising]\n",
        "\n",
        "surprising = 'Majority of the data is under around 1 second, with surprisingly having extreme outliers found at the 16 second mark.'\n",
        "#// END_TODO [Surprising]"
      ],
      "execution_count": 0,
      "outputs": []
    },
    {
      "cell_type": "markdown",
      "metadata": {
        "id": "jWbPmGNMHEqU",
        "colab_type": "text"
      },
      "source": [
        "### 2.2 Second definition of reaction time\n",
        "\n",
        "The previous definition of reaction time does not seem to express the reaction time very well.\n",
        "\n",
        "As a second definition, consider the time it takes from when the target appears ($t=0$), until the trajectory is outside the circle with radius **`10` pixels** around the origin $(x=0, y=0)$. (The reason for choosing `10` pixels is that a radius of 10 pixels is approximately the smallest circle that fits the square around the origin on which the user needs to hold the mouse before the target appears).\n",
        "\n",
        "1. Use an SQL query to create a table with columns containing the **user id**, the **trial id** and **the reaction time** according to this second definition. Store the query itself as a string in a variable `query_reaction_2`. Store the table in a dataframe named `df_reaction_2`. Rename the columns to `'user'`, `'trial'` and `'reaction_time_2'`. Set the index of `reaction_time_2` to `['user', 'trial']`.\n",
        "\n",
        "2. Compare the two density plots of the reaction times in one figure."
      ]
    },
    {
      "cell_type": "code",
      "metadata": {
        "id": "t70WqiQqHEqU",
        "colab_type": "code",
        "colab": {}
      },
      "source": [
        "#// BEGIN_TODO [Reaction_Time_2] (6 points)"
      ],
      "execution_count": 0,
      "outputs": []
    },
    {
      "cell_type": "code",
      "metadata": {
        "id": "q6M0raOyHEqY",
        "colab_type": "code",
        "colab": {}
      },
      "source": [
        "query_reaction_2 = '''\n",
        "SELECT user, trial, MIN(t) AS 'reaction_time_2'\n",
        "FROM paths\n",
        "WHERE x*x + y*y >= 100\n",
        "GROUP BY user, trial;\n",
        "'''"
      ],
      "execution_count": 0,
      "outputs": []
    },
    {
      "cell_type": "code",
      "metadata": {
        "id": "MaUm03NWHEqd",
        "colab_type": "code",
        "colab": {}
      },
      "source": [
        "df_reaction_2 = pd.read_sql_query(query_reaction_2, conn)\n",
        "df_reaction_2.set_index(['user','trial'], inplace=True)\n",
        "df_reaction_2;"
      ],
      "execution_count": 0,
      "outputs": []
    },
    {
      "cell_type": "code",
      "metadata": {
        "id": "1iyr5WvQHEqi",
        "colab_type": "code",
        "outputId": "b92a43b3-fb33-4757-9f8c-22a19269d7bf",
        "colab": {
          "base_uri": "https://localhost:8080/",
          "height": 372
        }
      },
      "source": [
        "\n",
        "fig, ax = plt.subplots(nrows=1, ncols=1, sharex=True, sharey=True, squeeze=False, figsize=(5,5))\n",
        "sns.distplot(df_reaction_1, ax=ax[0,0])\n",
        "sns.distplot(df_reaction_2, ax=ax[0,0])\n",
        "ax[0, 0].set_title('Density plot of both reaction times')\n",
        "ax[0, 0].set_xlabel('Time (s)')\n",
        "ax[0, 0].set_ylabel('Density')\n",
        "ax[0,0].legend(['df_reaction_1','df_reaction_2'])"
      ],
      "execution_count": 34,
      "outputs": [
        {
          "output_type": "execute_result",
          "data": {
            "text/plain": [
              "<matplotlib.legend.Legend at 0x7f9f10faef28>"
            ]
          },
          "metadata": {
            "tags": []
          },
          "execution_count": 34
        },
        {
          "output_type": "display_data",
          "data": {
            "image/png": "[encoded data removed]",
            "text/plain": [
              "<Figure size 360x360 with 1 Axes>"
            ]
          },
          "metadata": {
            "tags": []
          }
        }
      ]
    },
    {
      "cell_type": "code",
      "metadata": {
        "id": "4bMfMq6THEqo",
        "colab_type": "code",
        "colab": {}
      },
      "source": [
        "#// END_TODO [Reaction_Time_2]"
      ],
      "execution_count": 0,
      "outputs": []
    },
    {
      "cell_type": "markdown",
      "metadata": {
        "id": "T3TCOgXMHEqv",
        "colab_type": "text"
      },
      "source": [
        "3. How do the two definitions of reaction time compare? Store your answer in a string called `comparison_definitions`."
      ]
    },
    {
      "cell_type": "code",
      "metadata": {
        "id": "pAD8TI1RHEqw",
        "colab_type": "code",
        "colab": {}
      },
      "source": [
        "#// BEGIN_TODO [Compare_definitions]\n",
        "\n",
        "comparison_definitions = 'Reaction time one is shorter than reaction time two, which makes sense as the second definition is after it has left the staging area. The first definition may record people who move the mouse by a single pixel, with the second being more accurate as to having left the origin area (target does not show if you leave too early)'\n",
        "\n",
        "#// END_TODO [Compare_definitions]"
      ],
      "execution_count": 0,
      "outputs": []
    },
    {
      "cell_type": "markdown",
      "metadata": {
        "id": "sxu4ecpzHEqz",
        "colab_type": "text"
      },
      "source": [
        "> **Note:** from now on, we will follow the **second** definition of the reaction time"
      ]
    },
    {
      "cell_type": "markdown",
      "metadata": {
        "id": "svW4xUykHEq0",
        "colab_type": "text"
      },
      "source": [
        "## Step 3. Perform tests on the data to see if it meets expectations\n",
        "\n",
        "After collecting a large amount of data as in the mouse experiment, one should check whether the gathered data meets some basic expectations, for instance on how much time the paths take to complete and how long they are. If some of the data does not meet the expectations, we will look into the reason why.\n",
        "\n",
        "### 3.1 Formulate expectations\n",
        "\n",
        "We will look at two quantities:\n",
        "* the **total time** it takes to complete a path (as paths start at $t=0$, this corresponds to the maximum recorded time point for a given path)\n",
        "* the **length factor**, by which we mean the length of a path (the sum of all lengths of line segments between consecutive recorded points) divided by the distance between origin and (center of the) target\n",
        "\n",
        "Record your expectations on these quantities in the following variables:\n",
        "* `expected_max_total_time` : the maximum time (in seconds) it would take to complete a reasonable path\n",
        "* `expected_max_length_factor` : how many times a reasonable path can be longer than the distance between origin and target\n",
        "\n",
        "Here, a 'reasonable' path is not very well defined, but think of a path created by a user who was aiming to seriously completing the task, and there were no technical difficulties occurring."
      ]
    },
    {
      "cell_type": "code",
      "metadata": {
        "id": "ZyrvLvfXHEq0",
        "colab_type": "code",
        "colab": {}
      },
      "source": [
        "#// BEGIN_TODO [Record_expectations] (1 point)"
      ],
      "execution_count": 0,
      "outputs": []
    },
    {
      "cell_type": "code",
      "metadata": {
        "id": "imZCOTRXHEq6",
        "colab_type": "code",
        "colab": {}
      },
      "source": [
        "expected_max_total_time=2.5\n",
        "expected_max_length_factor=1.3"
      ],
      "execution_count": 0,
      "outputs": []
    },
    {
      "cell_type": "code",
      "metadata": {
        "id": "JRUtRCqbHErC",
        "colab_type": "code",
        "colab": {}
      },
      "source": [
        "#// END_TODO [Record_expectations]"
      ],
      "execution_count": 0,
      "outputs": []
    },
    {
      "cell_type": "markdown",
      "metadata": {
        "id": "NmXPcA0uHErH",
        "colab_type": "text"
      },
      "source": [
        "### 3.2 Check expectations\n",
        "\n",
        "Now, for each of the criteria, compute how many paths violate your expectations. Store your answers in the variables `nr_more_time_than_expected` and `nr_longer_than_expected`. Moreover, store the results of the computation of the *total time* and *length factor* in the `df_trials` dataframe, with labels `'total_time'` and `'length_factor'`.\n",
        "\n",
        "> **Hint:** Stay away from using \"for-loops\", and instead use _Pandas_ functions for your computations."
      ]
    },
    {
      "cell_type": "code",
      "metadata": {
        "id": "nsgvPSYZHErI",
        "colab_type": "code",
        "colab": {}
      },
      "source": [
        "#// BEGIN_TODO [Check_expectations] (6 points)"
      ],
      "execution_count": 0,
      "outputs": []
    },
    {
      "cell_type": "code",
      "metadata": {
        "id": "Ghuoc7GHHErN",
        "colab_type": "code",
        "outputId": "7bf8f101-290b-45e2-c11a-ea038cf2efb0",
        "colab": {
          "base_uri": "https://localhost:8080/",
          "height": 470
        }
      },
      "source": [
        "total_time = df_paths.reset_index()\n",
        "total_time = total_time.groupby(['user','trial'], sort=False)['t'].max()\n",
        "df_trials = df_trials.merge(total_time, left_on=['user','trial'], right_on=['user','trial'])\n",
        "df_trials.rename(columns={'t':'total_time'}, inplace=True)\n",
        "df_trials\n",
        "\n",
        "\n"
      ],
      "execution_count": 41,
      "outputs": [
        {
          "output_type": "execute_result",
          "data": {
            "text/html": [
              "<div>\n",
              "<style scoped>\n",
              "    .dataframe tbody tr th:only-of-type {\n",
              "        vertical-align: middle;\n",
              "    }\n",
              "\n",
              "    .dataframe tbody tr th {\n",
              "        vertical-align: top;\n",
              "    }\n",
              "\n",
              "    .dataframe thead th {\n",
              "        text-align: right;\n",
              "    }\n",
              "</style>\n",
              "<table border=\"1\" class=\"dataframe\">\n",
              "  <thead>\n",
              "    <tr style=\"text-align: right;\">\n",
              "      <th></th>\n",
              "      <th></th>\n",
              "      <th>delay</th>\n",
              "      <th>input_method</th>\n",
              "      <th>mouse_acceleration</th>\n",
              "      <th>mouse_speed_rec</th>\n",
              "      <th>mouse_threshold_1</th>\n",
              "      <th>mouse_threshold_2</th>\n",
              "      <th>screen_height</th>\n",
              "      <th>screen_width</th>\n",
              "      <th>target_radius</th>\n",
              "      <th>target_x</th>\n",
              "      <th>target_y</th>\n",
              "      <th>touchpad_honor</th>\n",
              "      <th>touchpad_speed</th>\n",
              "      <th>trial_for_input_method</th>\n",
              "      <th>total_time</th>\n",
              "    </tr>\n",
              "    <tr>\n",
              "      <th>user</th>\n",
              "      <th>trial</th>\n",
              "      <th></th>\n",
              "      <th></th>\n",
              "      <th></th>\n",
              "      <th></th>\n",
              "      <th></th>\n",
              "      <th></th>\n",
              "      <th></th>\n",
              "      <th></th>\n",
              "      <th></th>\n",
              "      <th></th>\n",
              "      <th></th>\n",
              "      <th></th>\n",
              "      <th></th>\n",
              "      <th></th>\n",
              "      <th></th>\n",
              "    </tr>\n",
              "  </thead>\n",
              "  <tbody>\n",
              "    <tr>\n",
              "      <th rowspan=\"5\" valign=\"top\">1226</th>\n",
              "      <th>5</th>\n",
              "      <td>2.136719</td>\n",
              "      <td>0</td>\n",
              "      <td>1</td>\n",
              "      <td>10</td>\n",
              "      <td>6</td>\n",
              "      <td>10</td>\n",
              "      <td>1080</td>\n",
              "      <td>1920</td>\n",
              "      <td>6</td>\n",
              "      <td>-84</td>\n",
              "      <td>-84</td>\n",
              "      <td>0</td>\n",
              "      <td>10</td>\n",
              "      <td>5</td>\n",
              "      <td>3.607323</td>\n",
              "    </tr>\n",
              "    <tr>\n",
              "      <th>6</th>\n",
              "      <td>3.540913</td>\n",
              "      <td>0</td>\n",
              "      <td>1</td>\n",
              "      <td>10</td>\n",
              "      <td>6</td>\n",
              "      <td>10</td>\n",
              "      <td>1080</td>\n",
              "      <td>1920</td>\n",
              "      <td>6</td>\n",
              "      <td>0</td>\n",
              "      <td>190</td>\n",
              "      <td>0</td>\n",
              "      <td>10</td>\n",
              "      <td>6</td>\n",
              "      <td>1.867664</td>\n",
              "    </tr>\n",
              "    <tr>\n",
              "      <th>7</th>\n",
              "      <td>3.688381</td>\n",
              "      <td>0</td>\n",
              "      <td>1</td>\n",
              "      <td>10</td>\n",
              "      <td>6</td>\n",
              "      <td>10</td>\n",
              "      <td>1080</td>\n",
              "      <td>1920</td>\n",
              "      <td>6</td>\n",
              "      <td>-158</td>\n",
              "      <td>-158</td>\n",
              "      <td>0</td>\n",
              "      <td>10</td>\n",
              "      <td>7</td>\n",
              "      <td>1.645011</td>\n",
              "    </tr>\n",
              "    <tr>\n",
              "      <th>8</th>\n",
              "      <td>2.823134</td>\n",
              "      <td>0</td>\n",
              "      <td>1</td>\n",
              "      <td>10</td>\n",
              "      <td>6</td>\n",
              "      <td>10</td>\n",
              "      <td>1080</td>\n",
              "      <td>1920</td>\n",
              "      <td>3</td>\n",
              "      <td>81</td>\n",
              "      <td>-81</td>\n",
              "      <td>0</td>\n",
              "      <td>10</td>\n",
              "      <td>8</td>\n",
              "      <td>1.776010</td>\n",
              "    </tr>\n",
              "    <tr>\n",
              "      <th>9</th>\n",
              "      <td>3.690253</td>\n",
              "      <td>0</td>\n",
              "      <td>1</td>\n",
              "      <td>10</td>\n",
              "      <td>6</td>\n",
              "      <td>10</td>\n",
              "      <td>1080</td>\n",
              "      <td>1920</td>\n",
              "      <td>9</td>\n",
              "      <td>-157</td>\n",
              "      <td>157</td>\n",
              "      <td>0</td>\n",
              "      <td>10</td>\n",
              "      <td>9</td>\n",
              "      <td>1.567794</td>\n",
              "    </tr>\n",
              "    <tr>\n",
              "      <th>...</th>\n",
              "      <th>...</th>\n",
              "      <td>...</td>\n",
              "      <td>...</td>\n",
              "      <td>...</td>\n",
              "      <td>...</td>\n",
              "      <td>...</td>\n",
              "      <td>...</td>\n",
              "      <td>...</td>\n",
              "      <td>...</td>\n",
              "      <td>...</td>\n",
              "      <td>...</td>\n",
              "      <td>...</td>\n",
              "      <td>...</td>\n",
              "      <td>...</td>\n",
              "      <td>...</td>\n",
              "      <td>...</td>\n",
              "    </tr>\n",
              "    <tr>\n",
              "      <th rowspan=\"5\" valign=\"top\">1131</th>\n",
              "      <th>50</th>\n",
              "      <td>3.160624</td>\n",
              "      <td>0</td>\n",
              "      <td>1</td>\n",
              "      <td>10</td>\n",
              "      <td>6</td>\n",
              "      <td>10</td>\n",
              "      <td>1080</td>\n",
              "      <td>1920</td>\n",
              "      <td>9</td>\n",
              "      <td>-167</td>\n",
              "      <td>167</td>\n",
              "      <td>-1</td>\n",
              "      <td>10</td>\n",
              "      <td>10</td>\n",
              "      <td>1.204643</td>\n",
              "    </tr>\n",
              "    <tr>\n",
              "      <th>51</th>\n",
              "      <td>3.902326</td>\n",
              "      <td>0</td>\n",
              "      <td>1</td>\n",
              "      <td>10</td>\n",
              "      <td>6</td>\n",
              "      <td>10</td>\n",
              "      <td>1080</td>\n",
              "      <td>1920</td>\n",
              "      <td>9</td>\n",
              "      <td>169</td>\n",
              "      <td>0</td>\n",
              "      <td>-1</td>\n",
              "      <td>10</td>\n",
              "      <td>11</td>\n",
              "      <td>1.387911</td>\n",
              "    </tr>\n",
              "    <tr>\n",
              "      <th>52</th>\n",
              "      <td>2.491886</td>\n",
              "      <td>0</td>\n",
              "      <td>1</td>\n",
              "      <td>10</td>\n",
              "      <td>6</td>\n",
              "      <td>10</td>\n",
              "      <td>1080</td>\n",
              "      <td>1920</td>\n",
              "      <td>9</td>\n",
              "      <td>132</td>\n",
              "      <td>-132</td>\n",
              "      <td>-1</td>\n",
              "      <td>10</td>\n",
              "      <td>12</td>\n",
              "      <td>1.598877</td>\n",
              "    </tr>\n",
              "    <tr>\n",
              "      <th>53</th>\n",
              "      <td>3.061265</td>\n",
              "      <td>0</td>\n",
              "      <td>1</td>\n",
              "      <td>10</td>\n",
              "      <td>6</td>\n",
              "      <td>10</td>\n",
              "      <td>1080</td>\n",
              "      <td>1920</td>\n",
              "      <td>9</td>\n",
              "      <td>-236</td>\n",
              "      <td>0</td>\n",
              "      <td>-1</td>\n",
              "      <td>10</td>\n",
              "      <td>13</td>\n",
              "      <td>1.496332</td>\n",
              "    </tr>\n",
              "    <tr>\n",
              "      <th>54</th>\n",
              "      <td>3.187951</td>\n",
              "      <td>0</td>\n",
              "      <td>1</td>\n",
              "      <td>10</td>\n",
              "      <td>6</td>\n",
              "      <td>10</td>\n",
              "      <td>1080</td>\n",
              "      <td>1920</td>\n",
              "      <td>3</td>\n",
              "      <td>179</td>\n",
              "      <td>0</td>\n",
              "      <td>-1</td>\n",
              "      <td>10</td>\n",
              "      <td>14</td>\n",
              "      <td>3.612951</td>\n",
              "    </tr>\n",
              "  </tbody>\n",
              "</table>\n",
              "<p>29295 rows × 15 columns</p>\n",
              "</div>"
            ],
            "text/plain": [
              "               delay  input_method  ...  trial_for_input_method  total_time\n",
              "user trial                          ...                                    \n",
              "1226 5      2.136719             0  ...                       5    3.607323\n",
              "     6      3.540913             0  ...                       6    1.867664\n",
              "     7      3.688381             0  ...                       7    1.645011\n",
              "     8      2.823134             0  ...                       8    1.776010\n",
              "     9      3.690253             0  ...                       9    1.567794\n",
              "...              ...           ...  ...                     ...         ...\n",
              "1131 50     3.160624             0  ...                      10    1.204643\n",
              "     51     3.902326             0  ...                      11    1.387911\n",
              "     52     2.491886             0  ...                      12    1.598877\n",
              "     53     3.061265             0  ...                      13    1.496332\n",
              "     54     3.187951             0  ...                      14    3.612951\n",
              "\n",
              "[29295 rows x 15 columns]"
            ]
          },
          "metadata": {
            "tags": []
          },
          "execution_count": 41
        }
      ]
    },
    {
      "cell_type": "code",
      "metadata": {
        "id": "0ISJu030w0L-",
        "colab_type": "code",
        "colab": {
          "base_uri": "https://localhost:8080/",
          "height": 51
        },
        "outputId": "87145557-5a4b-431f-b681-b5d1ebec560c"
      },
      "source": [
        "df_paths\n",
        "temp = df_paths\n",
        "distances = np.sqrt(np.power(temp['x'].shift()-temp['x'],2) + np.power(temp['y'].shift()-temp['y'],2))\n",
        "distances = distances.groupby(['user','trial']).sum()\n",
        "#dis\n",
        "origin_distances = np.sqrt(np.power(0-df_trials['target_x'],2) + np.power(0-df_trials['target_y'],2))\n",
        "length_factor = distances/origin_distances\n",
        "length_factor\n",
        "df_trials = df_trials.merge(length_factor.rename('length_factor'), left_on=['user','trial'], right_on=['user','trial'])\n",
        "df_trials\n",
        "\n",
        "\n",
        "nr_more_time_than_expected = df_trials[total_time > expected_max_total_time] \n",
        "nr_longer_than_expected = df_trials[length_factor > expected_max_length_factor]"
      ],
      "execution_count": 42,
      "outputs": [
        {
          "output_type": "stream",
          "text": [
            "/usr/local/lib/python3.6/dist-packages/ipykernel_launcher.py:14: UserWarning: Boolean Series key will be reindexed to match DataFrame index.\n",
            "  \n"
          ],
          "name": "stderr"
        }
      ]
    },
    {
      "cell_type": "code",
      "metadata": {
        "id": "f7de-op1HErU",
        "colab_type": "code",
        "colab": {}
      },
      "source": [
        "#// END_TODO [Check_expectations]"
      ],
      "execution_count": 0,
      "outputs": []
    },
    {
      "cell_type": "markdown",
      "metadata": {
        "id": "G0HN-eVSHErc",
        "colab_type": "text"
      },
      "source": [
        "### 3.3 Investigate what happens\n",
        "\n",
        "To get more insight into why certain paths do not correspond to your expectations, first make density plots that give you an idea of the distribution of the total time and the length factor. You may also perform further investigations into what is going on, e.g. inspect a few paths."
      ]
    },
    {
      "cell_type": "code",
      "metadata": {
        "id": "umZExGX2HErf",
        "colab_type": "code",
        "colab": {
          "base_uri": "https://localhost:8080/",
          "height": 372
        },
        "outputId": "8ace00a8-65e0-4f05-8dcd-ddff19ef1072"
      },
      "source": [
        "#// BEGIN_TODO [Investigate] (1 point)\n",
        "\n",
        "\n",
        "fig, ax = plt.subplots(nrows=1, ncols=1, sharex=True, sharey=True, squeeze=False, figsize=(5,5))\n",
        "sns.distplot(total_time, ax=ax[0,0])\n",
        "ax[0, 0].set_title('Density plot of total time')\n",
        "ax[0, 0].set_xlabel('Time')\n",
        "ax[0, 0].set_ylabel('Density')\n",
        "ax[0,0].legend(['total_time'])"
      ],
      "execution_count": 44,
      "outputs": [
        {
          "output_type": "execute_result",
          "data": {
            "text/plain": [
              "<matplotlib.legend.Legend at 0x7f9efa4d2160>"
            ]
          },
          "metadata": {
            "tags": []
          },
          "execution_count": 44
        },
        {
          "output_type": "display_data",
          "data": {
            "image/png": "[encoded data removed]",
            "text/plain": [
              "<Figure size 360x360 with 1 Axes>"
            ]
          },
          "metadata": {
            "tags": []
          }
        }
      ]
    },
    {
      "cell_type": "code",
      "metadata": {
        "id": "MCyCynTb5nDa",
        "colab_type": "code",
        "colab": {
          "base_uri": "https://localhost:8080/",
          "height": 372
        },
        "outputId": "6ec8121a-f622-4e71-89c4-48d50fe77750"
      },
      "source": [
        "fig, ax = plt.subplots(nrows=1, ncols=1, sharex=True, sharey=True, squeeze=False, figsize=(5,5))\n",
        "sns.distplot(length_factor, ax=ax[0,0])\n",
        "ax[0, 0].set_title('Density plot of length factor')\n",
        "ax[0, 0].set_xlabel('length_factor')\n",
        "ax[0, 0].set_ylabel('Density')\n",
        "ax[0,0].legend(['length_factor'])"
      ],
      "execution_count": 45,
      "outputs": [
        {
          "output_type": "execute_result",
          "data": {
            "text/plain": [
              "<matplotlib.legend.Legend at 0x7f9f0c6d2160>"
            ]
          },
          "metadata": {
            "tags": []
          },
          "execution_count": 45
        },
        {
          "output_type": "display_data",
          "data": {
            "image/png": "[encoded data removed]",
            "text/plain": [
              "<Figure size 360x360 with 1 Axes>"
            ]
          },
          "metadata": {
            "tags": []
          }
        }
      ]
    },
    {
      "cell_type": "code",
      "metadata": {
        "id": "RoloXHdvHErl",
        "colab_type": "code",
        "colab": {}
      },
      "source": [
        "#// END_TODO [Investigate]"
      ],
      "execution_count": 0,
      "outputs": []
    },
    {
      "cell_type": "markdown",
      "metadata": {
        "id": "caQqfSxkHErq",
        "colab_type": "text"
      },
      "source": [
        "## Step 4. Clean the data\n",
        "\n",
        "After checking your expectations above, it is likely that you have seen that there are quite a few paths different from expected. There could be several reasons for this; some paths won't correspond to serious trials, in others the experiment may have been interrupted or there could have been some technical failure. \n",
        "\n",
        "When we want to investigate the relationship between the reaction time and the difficulty of the task, we do not want to include such paths, i.e. paths that do not correspond to proper trials. They would largely distort our conclusions. We consider those paths **outliers**.\n",
        "\n",
        "### Define outliers\n",
        "\n",
        "However, it is always hard to _define_ what is an outlier: we need to realize that sometimes experiments may give surprising results and we should not discard them.\n",
        "\n",
        "Provide a definition of what is an outlier for the purpose of the current investigation, by storing\n",
        "* an upper bound on the reaction time in seconds in the variable `upper_bound_reaction_time`,\n",
        "* an upper bound on the total time in seconds in the variable `upper_bound_total_time`, \n",
        "* an upper bound on the length factor in the variable `upper_bound_length_factor`.\n",
        "\n",
        "Given the provided values, an outlier will be defined as a path for which the reaction time is longer than `upper_bound_reaction_time`, **or** the total time is more than `upper_bound_total_time`, **or** the length factor is more than `upper_bound_length_factor` (all inequalities are assumed to be strict inequalities).\n",
        "\n",
        "> You have provided variables `expected_max_total_time` and `expected_max_length_factor` before. These were initial estimates. You can view `upper_bound_total_time` and `upper_bound_length_factor` as refinements of these initial estimates, based on your investigations in the previous step.\n",
        "\n",
        "> **Poster**: Make sure to motivate your choice on the poster."
      ]
    },
    {
      "cell_type": "code",
      "metadata": {
        "id": "kk9mQakaHErr",
        "colab_type": "code",
        "colab": {}
      },
      "source": [
        "#// BEGIN_TODO [Define_Outliers] (1 point)\n",
        "upper_bound_total_time = 2.5\n",
        "upper_bound_length_factor = 3\n",
        "upper_bound_reaction_time = 2.6\n",
        "\n",
        "\n"
      ],
      "execution_count": 0,
      "outputs": []
    },
    {
      "cell_type": "code",
      "metadata": {
        "id": "_5Bi7tZjHErw",
        "colab_type": "code",
        "colab": {}
      },
      "source": [
        "#// END_TODO [Define_Outliers]"
      ],
      "execution_count": 0,
      "outputs": []
    },
    {
      "cell_type": "markdown",
      "metadata": {
        "id": "rirOCekRHEr0",
        "colab_type": "text"
      },
      "source": [
        "### Remove outliers\n",
        "\n",
        "Given your definition of outliers in the previous section, create a new dataframe `df_trials_clean` which is the dataframe `df_trials` but with outliers removed."
      ]
    },
    {
      "cell_type": "code",
      "metadata": {
        "id": "Q2hFNHK2ETyF",
        "colab_type": "code",
        "colab": {
          "base_uri": "https://localhost:8080/",
          "height": 450
        },
        "outputId": "61a977e0-8734-41f0-a4c4-2cc386773acb"
      },
      "source": [
        "df_reaction_2\n",
        "temp = df_reaction_2[df_reaction_2['reaction_time_2'] < upper_bound_reaction_time]\n",
        "temp.reset_index()\n",
        "temp"
      ],
      "execution_count": 49,
      "outputs": [
        {
          "output_type": "execute_result",
          "data": {
            "text/html": [
              "<div>\n",
              "<style scoped>\n",
              "    .dataframe tbody tr th:only-of-type {\n",
              "        vertical-align: middle;\n",
              "    }\n",
              "\n",
              "    .dataframe tbody tr th {\n",
              "        vertical-align: top;\n",
              "    }\n",
              "\n",
              "    .dataframe thead th {\n",
              "        text-align: right;\n",
              "    }\n",
              "</style>\n",
              "<table border=\"1\" class=\"dataframe\">\n",
              "  <thead>\n",
              "    <tr style=\"text-align: right;\">\n",
              "      <th></th>\n",
              "      <th></th>\n",
              "      <th>reaction_time_2</th>\n",
              "    </tr>\n",
              "    <tr>\n",
              "      <th>user</th>\n",
              "      <th>trial</th>\n",
              "      <th></th>\n",
              "    </tr>\n",
              "  </thead>\n",
              "  <tbody>\n",
              "    <tr>\n",
              "      <th rowspan=\"5\" valign=\"top\">1</th>\n",
              "      <th>5</th>\n",
              "      <td>0.364838</td>\n",
              "    </tr>\n",
              "    <tr>\n",
              "      <th>6</th>\n",
              "      <td>0.418160</td>\n",
              "    </tr>\n",
              "    <tr>\n",
              "      <th>7</th>\n",
              "      <td>0.455672</td>\n",
              "    </tr>\n",
              "    <tr>\n",
              "      <th>8</th>\n",
              "      <td>0.476387</td>\n",
              "    </tr>\n",
              "    <tr>\n",
              "      <th>9</th>\n",
              "      <td>0.391309</td>\n",
              "    </tr>\n",
              "    <tr>\n",
              "      <th>...</th>\n",
              "      <th>...</th>\n",
              "      <td>...</td>\n",
              "    </tr>\n",
              "    <tr>\n",
              "      <th rowspan=\"5\" valign=\"top\">2995</th>\n",
              "      <th>30</th>\n",
              "      <td>0.991101</td>\n",
              "    </tr>\n",
              "    <tr>\n",
              "      <th>31</th>\n",
              "      <td>0.785528</td>\n",
              "    </tr>\n",
              "    <tr>\n",
              "      <th>32</th>\n",
              "      <td>1.523124</td>\n",
              "    </tr>\n",
              "    <tr>\n",
              "      <th>33</th>\n",
              "      <td>0.626301</td>\n",
              "    </tr>\n",
              "    <tr>\n",
              "      <th>34</th>\n",
              "      <td>0.610010</td>\n",
              "    </tr>\n",
              "  </tbody>\n",
              "</table>\n",
              "<p>29234 rows × 1 columns</p>\n",
              "</div>"
            ],
            "text/plain": [
              "            reaction_time_2\n",
              "user trial                 \n",
              "1    5             0.364838\n",
              "     6             0.418160\n",
              "     7             0.455672\n",
              "     8             0.476387\n",
              "     9             0.391309\n",
              "...                     ...\n",
              "2995 30            0.991101\n",
              "     31            0.785528\n",
              "     32            1.523124\n",
              "     33            0.626301\n",
              "     34            0.610010\n",
              "\n",
              "[29234 rows x 1 columns]"
            ]
          },
          "metadata": {
            "tags": []
          },
          "execution_count": 49
        }
      ]
    },
    {
      "cell_type": "code",
      "metadata": {
        "id": "Tv-TgMJGHEr2",
        "colab_type": "code",
        "colab": {
          "base_uri": "https://localhost:8080/",
          "height": 470
        },
        "outputId": "5214ebb6-2340-4254-c53e-96d76c499872"
      },
      "source": [
        "#// BEGIN_TODO [Remove_Outliers] (3 points)\n",
        "\n",
        "df_trials_clean = df_trials[ df_trials['length_factor'] < upper_bound_length_factor] \n",
        "df_trials_clean =  df_trials_clean[ df_trials_clean['total_time'] < upper_bound_total_time]\n",
        "df_trials_clean = pd.merge(df_trials_clean,temp,on=['user','trial'],how='inner')\n",
        "df_trials_clean\n"
      ],
      "execution_count": 50,
      "outputs": [
        {
          "output_type": "execute_result",
          "data": {
            "text/html": [
              "<div>\n",
              "<style scoped>\n",
              "    .dataframe tbody tr th:only-of-type {\n",
              "        vertical-align: middle;\n",
              "    }\n",
              "\n",
              "    .dataframe tbody tr th {\n",
              "        vertical-align: top;\n",
              "    }\n",
              "\n",
              "    .dataframe thead th {\n",
              "        text-align: right;\n",
              "    }\n",
              "</style>\n",
              "<table border=\"1\" class=\"dataframe\">\n",
              "  <thead>\n",
              "    <tr style=\"text-align: right;\">\n",
              "      <th></th>\n",
              "      <th></th>\n",
              "      <th>delay</th>\n",
              "      <th>input_method</th>\n",
              "      <th>mouse_acceleration</th>\n",
              "      <th>mouse_speed_rec</th>\n",
              "      <th>mouse_threshold_1</th>\n",
              "      <th>mouse_threshold_2</th>\n",
              "      <th>screen_height</th>\n",
              "      <th>screen_width</th>\n",
              "      <th>target_radius</th>\n",
              "      <th>target_x</th>\n",
              "      <th>target_y</th>\n",
              "      <th>touchpad_honor</th>\n",
              "      <th>touchpad_speed</th>\n",
              "      <th>trial_for_input_method</th>\n",
              "      <th>total_time</th>\n",
              "      <th>length_factor</th>\n",
              "      <th>reaction_time_2</th>\n",
              "    </tr>\n",
              "    <tr>\n",
              "      <th>user</th>\n",
              "      <th>trial</th>\n",
              "      <th></th>\n",
              "      <th></th>\n",
              "      <th></th>\n",
              "      <th></th>\n",
              "      <th></th>\n",
              "      <th></th>\n",
              "      <th></th>\n",
              "      <th></th>\n",
              "      <th></th>\n",
              "      <th></th>\n",
              "      <th></th>\n",
              "      <th></th>\n",
              "      <th></th>\n",
              "      <th></th>\n",
              "      <th></th>\n",
              "      <th></th>\n",
              "      <th></th>\n",
              "    </tr>\n",
              "  </thead>\n",
              "  <tbody>\n",
              "    <tr>\n",
              "      <th rowspan=\"5\" valign=\"top\">1226</th>\n",
              "      <th>6</th>\n",
              "      <td>3.540913</td>\n",
              "      <td>0</td>\n",
              "      <td>1</td>\n",
              "      <td>10</td>\n",
              "      <td>6</td>\n",
              "      <td>10</td>\n",
              "      <td>1080</td>\n",
              "      <td>1920</td>\n",
              "      <td>6</td>\n",
              "      <td>0</td>\n",
              "      <td>190</td>\n",
              "      <td>0</td>\n",
              "      <td>10</td>\n",
              "      <td>6</td>\n",
              "      <td>1.867664</td>\n",
              "      <td>1.707103</td>\n",
              "      <td>0.551264</td>\n",
              "    </tr>\n",
              "    <tr>\n",
              "      <th>7</th>\n",
              "      <td>3.688381</td>\n",
              "      <td>0</td>\n",
              "      <td>1</td>\n",
              "      <td>10</td>\n",
              "      <td>6</td>\n",
              "      <td>10</td>\n",
              "      <td>1080</td>\n",
              "      <td>1920</td>\n",
              "      <td>6</td>\n",
              "      <td>-158</td>\n",
              "      <td>-158</td>\n",
              "      <td>0</td>\n",
              "      <td>10</td>\n",
              "      <td>7</td>\n",
              "      <td>1.645011</td>\n",
              "      <td>1.909881</td>\n",
              "      <td>0.529978</td>\n",
              "    </tr>\n",
              "    <tr>\n",
              "      <th>9</th>\n",
              "      <td>3.690253</td>\n",
              "      <td>0</td>\n",
              "      <td>1</td>\n",
              "      <td>10</td>\n",
              "      <td>6</td>\n",
              "      <td>10</td>\n",
              "      <td>1080</td>\n",
              "      <td>1920</td>\n",
              "      <td>9</td>\n",
              "      <td>-157</td>\n",
              "      <td>157</td>\n",
              "      <td>0</td>\n",
              "      <td>10</td>\n",
              "      <td>9</td>\n",
              "      <td>1.567794</td>\n",
              "      <td>1.550926</td>\n",
              "      <td>0.538751</td>\n",
              "    </tr>\n",
              "    <tr>\n",
              "      <th>10</th>\n",
              "      <td>3.768077</td>\n",
              "      <td>0</td>\n",
              "      <td>1</td>\n",
              "      <td>10</td>\n",
              "      <td>6</td>\n",
              "      <td>10</td>\n",
              "      <td>1080</td>\n",
              "      <td>1920</td>\n",
              "      <td>3</td>\n",
              "      <td>-202</td>\n",
              "      <td>-202</td>\n",
              "      <td>0</td>\n",
              "      <td>10</td>\n",
              "      <td>10</td>\n",
              "      <td>2.448795</td>\n",
              "      <td>1.880093</td>\n",
              "      <td>0.522799</td>\n",
              "    </tr>\n",
              "    <tr>\n",
              "      <th>11</th>\n",
              "      <td>2.792111</td>\n",
              "      <td>0</td>\n",
              "      <td>1</td>\n",
              "      <td>10</td>\n",
              "      <td>6</td>\n",
              "      <td>10</td>\n",
              "      <td>1080</td>\n",
              "      <td>1920</td>\n",
              "      <td>3</td>\n",
              "      <td>0</td>\n",
              "      <td>-272</td>\n",
              "      <td>0</td>\n",
              "      <td>10</td>\n",
              "      <td>11</td>\n",
              "      <td>2.131823</td>\n",
              "      <td>2.075933</td>\n",
              "      <td>0.791457</td>\n",
              "    </tr>\n",
              "    <tr>\n",
              "      <th>...</th>\n",
              "      <th>...</th>\n",
              "      <td>...</td>\n",
              "      <td>...</td>\n",
              "      <td>...</td>\n",
              "      <td>...</td>\n",
              "      <td>...</td>\n",
              "      <td>...</td>\n",
              "      <td>...</td>\n",
              "      <td>...</td>\n",
              "      <td>...</td>\n",
              "      <td>...</td>\n",
              "      <td>...</td>\n",
              "      <td>...</td>\n",
              "      <td>...</td>\n",
              "      <td>...</td>\n",
              "      <td>...</td>\n",
              "      <td>...</td>\n",
              "      <td>...</td>\n",
              "    </tr>\n",
              "    <tr>\n",
              "      <th rowspan=\"5\" valign=\"top\">1131</th>\n",
              "      <th>48</th>\n",
              "      <td>3.065997</td>\n",
              "      <td>0</td>\n",
              "      <td>1</td>\n",
              "      <td>10</td>\n",
              "      <td>6</td>\n",
              "      <td>10</td>\n",
              "      <td>1080</td>\n",
              "      <td>1920</td>\n",
              "      <td>6</td>\n",
              "      <td>-252</td>\n",
              "      <td>0</td>\n",
              "      <td>-1</td>\n",
              "      <td>10</td>\n",
              "      <td>8</td>\n",
              "      <td>2.043426</td>\n",
              "      <td>2.146048</td>\n",
              "      <td>0.533605</td>\n",
              "    </tr>\n",
              "    <tr>\n",
              "      <th>50</th>\n",
              "      <td>3.160624</td>\n",
              "      <td>0</td>\n",
              "      <td>1</td>\n",
              "      <td>10</td>\n",
              "      <td>6</td>\n",
              "      <td>10</td>\n",
              "      <td>1080</td>\n",
              "      <td>1920</td>\n",
              "      <td>9</td>\n",
              "      <td>-167</td>\n",
              "      <td>167</td>\n",
              "      <td>-1</td>\n",
              "      <td>10</td>\n",
              "      <td>10</td>\n",
              "      <td>1.204643</td>\n",
              "      <td>1.524089</td>\n",
              "      <td>0.440187</td>\n",
              "    </tr>\n",
              "    <tr>\n",
              "      <th>51</th>\n",
              "      <td>3.902326</td>\n",
              "      <td>0</td>\n",
              "      <td>1</td>\n",
              "      <td>10</td>\n",
              "      <td>6</td>\n",
              "      <td>10</td>\n",
              "      <td>1080</td>\n",
              "      <td>1920</td>\n",
              "      <td>9</td>\n",
              "      <td>169</td>\n",
              "      <td>0</td>\n",
              "      <td>-1</td>\n",
              "      <td>10</td>\n",
              "      <td>11</td>\n",
              "      <td>1.387911</td>\n",
              "      <td>2.405152</td>\n",
              "      <td>0.499868</td>\n",
              "    </tr>\n",
              "    <tr>\n",
              "      <th>52</th>\n",
              "      <td>2.491886</td>\n",
              "      <td>0</td>\n",
              "      <td>1</td>\n",
              "      <td>10</td>\n",
              "      <td>6</td>\n",
              "      <td>10</td>\n",
              "      <td>1080</td>\n",
              "      <td>1920</td>\n",
              "      <td>9</td>\n",
              "      <td>132</td>\n",
              "      <td>-132</td>\n",
              "      <td>-1</td>\n",
              "      <td>10</td>\n",
              "      <td>12</td>\n",
              "      <td>1.598877</td>\n",
              "      <td>2.082097</td>\n",
              "      <td>0.458587</td>\n",
              "    </tr>\n",
              "    <tr>\n",
              "      <th>53</th>\n",
              "      <td>3.061265</td>\n",
              "      <td>0</td>\n",
              "      <td>1</td>\n",
              "      <td>10</td>\n",
              "      <td>6</td>\n",
              "      <td>10</td>\n",
              "      <td>1080</td>\n",
              "      <td>1920</td>\n",
              "      <td>9</td>\n",
              "      <td>-236</td>\n",
              "      <td>0</td>\n",
              "      <td>-1</td>\n",
              "      <td>10</td>\n",
              "      <td>13</td>\n",
              "      <td>1.496332</td>\n",
              "      <td>1.955444</td>\n",
              "      <td>0.501214</td>\n",
              "    </tr>\n",
              "  </tbody>\n",
              "</table>\n",
              "<p>25228 rows × 17 columns</p>\n",
              "</div>"
            ],
            "text/plain": [
              "               delay  input_method  ...  length_factor  reaction_time_2\n",
              "user trial                          ...                                \n",
              "1226 6      3.540913             0  ...       1.707103         0.551264\n",
              "     7      3.688381             0  ...       1.909881         0.529978\n",
              "     9      3.690253             0  ...       1.550926         0.538751\n",
              "     10     3.768077             0  ...       1.880093         0.522799\n",
              "     11     2.792111             0  ...       2.075933         0.791457\n",
              "...              ...           ...  ...            ...              ...\n",
              "1131 48     3.065997             0  ...       2.146048         0.533605\n",
              "     50     3.160624             0  ...       1.524089         0.440187\n",
              "     51     3.902326             0  ...       2.405152         0.499868\n",
              "     52     2.491886             0  ...       2.082097         0.458587\n",
              "     53     3.061265             0  ...       1.955444         0.501214\n",
              "\n",
              "[25228 rows x 17 columns]"
            ]
          },
          "metadata": {
            "tags": []
          },
          "execution_count": 50
        }
      ]
    },
    {
      "cell_type": "code",
      "metadata": {
        "id": "JdnICknXHEr7",
        "colab_type": "code",
        "colab": {}
      },
      "source": [
        "#// END_TODO [Remove_Outliers]"
      ],
      "execution_count": 0,
      "outputs": []
    },
    {
      "cell_type": "markdown",
      "metadata": {
        "id": "EyoNY0n0HEsB",
        "colab_type": "text"
      },
      "source": [
        "We now create, based on your solution above, new dataframes `df_paths_clean` and `df_users_clean` which are the `df_paths` and `df_users` dataframes but with outliers removed."
      ]
    },
    {
      "cell_type": "code",
      "metadata": {
        "id": "lN9a4orRHEsC",
        "colab_type": "code",
        "colab": {}
      },
      "source": [
        "df_paths_clean = df_paths[df_paths.index.droplevel('t').isin(df_trials.index)].copy()\n",
        "df_users_clean = df_users[df_users.index.isin(df_trials.index.get_level_values('user').unique())].copy()"
      ],
      "execution_count": 0,
      "outputs": []
    },
    {
      "cell_type": "markdown",
      "metadata": {
        "id": "xz8Ea5dCHEsH",
        "colab_type": "text"
      },
      "source": [
        "## Step 5. Exploratory data analysis and visualization\n",
        "\n",
        "In the next step of the assignment (step 6), you will investigate (by formulating and testing a hypothesis) the relationship between the reaction time and a feature of your choice, that expresses the difficulty of the task. To do so, it will be necessary to select (or compute) a feature in the data that expresses the difficulty of the task.\n",
        "\n",
        "Here are some suggestions for possible features, but you are free to think of and compute another feature yourself:\n",
        "* The size of the target: For a fixed input method (trackpad or mouse), and one of the eight possible directions, you could investigate the influence of the size of the target on the reaction time\n",
        "* The direction of target: For a fixed input method, and for one fixed target size, you could compare two out of the eight possible directions\n",
        "* The direction of the target, taking into account the hand the user uses for the mouse: Perhaps it is harder for a right-handed person to move the mouse to the left, while it may be easier for a left-handed person\n",
        "* The distance of the target to the origin: For a fixed input method, and one of eight possible directions, you could investigate the influence of the distance between the target and the origin on the reaction time\n",
        "\n",
        "> **Poster**: Make sure to motivate your choice on the poster.\n",
        "\n",
        "### Exploratory data analysis\n",
        "\n",
        "You can use this section to explore what would be a good feature to investigate, and get an initial idea about its relationship to the reaction time."
      ]
    },
    {
      "cell_type": "code",
      "metadata": {
        "id": "E8guafl_HEsI",
        "colab_type": "code",
        "colab": {
          "base_uri": "https://localhost:8080/",
          "height": 356
        },
        "outputId": "18d80e70-d3e4-46b0-81b9-df3ac22d6c8f"
      },
      "source": [
        "#// BEGIN_TODO [EDA] (1 point)\n",
        "\n",
        "sns.scatterplot(x=   df_trials_clean['target_radius'].head(n=20) , y=df_reaction_2['reaction_time_2'])"
      ],
      "execution_count": 53,
      "outputs": [
        {
          "output_type": "execute_result",
          "data": {
            "text/plain": [
              "<matplotlib.axes._subplots.AxesSubplot at 0x7f9f0c7416d8>"
            ]
          },
          "metadata": {
            "tags": []
          },
          "execution_count": 53
        },
        {
          "output_type": "display_data",
          "data": {
            "image/png": "[encoded data removed]",
            "text/plain": [
              "<Figure size 720x360 with 1 Axes>"
            ]
          },
          "metadata": {
            "tags": []
          }
        }
      ]
    },
    {
      "cell_type": "code",
      "metadata": {
        "id": "J3TBw4qCHEsM",
        "colab_type": "code",
        "colab": {}
      },
      "source": [
        "#// END_TODO [EDA]"
      ],
      "execution_count": 0,
      "outputs": []
    },
    {
      "cell_type": "markdown",
      "metadata": {
        "id": "_DxNwyF9HEsT",
        "colab_type": "text"
      },
      "source": [
        "### Decide on a feature to investigate\n",
        "\n",
        "Assign the name of the feature that you want to investigate as a string to a variable `feature`."
      ]
    },
    {
      "cell_type": "code",
      "metadata": {
        "id": "IqMCwVH4HEsU",
        "colab_type": "code",
        "colab": {}
      },
      "source": [
        "#// BEGIN_TODO [Decide_Feat] (1 point)\n",
        "\n",
        "feature = \"target_radius\"\n",
        "\n",
        "#// END_TODO [Decide_Feat]"
      ],
      "execution_count": 0,
      "outputs": []
    },
    {
      "cell_type": "markdown",
      "metadata": {
        "id": "d_PVR4weHEsZ",
        "colab_type": "text"
      },
      "source": [
        "### Create visualizations\n",
        "\n",
        "Use this section to create \n",
        "* a visualization that describes the relationship between the reaction time in seconds and the feature that you chose\n",
        "* a visualization that describes the relationship between the reaction time, but now as a proportion of the total time, and the feature that you chose.\n",
        "\n",
        "> **Poster:** Use these visualizations on your poster. Make sure that the pictures you use on the poster _exactly_ correspond to the ones that you see on Momotor after it processes your notebook."
      ]
    },
    {
      "cell_type": "code",
      "metadata": {
        "id": "s3DPzDQtHEsb",
        "colab_type": "code",
        "colab": {
          "base_uri": "https://localhost:8080/",
          "height": 356
        },
        "outputId": "a74c46a8-1266-49ee-dc45-e9c3877b099e"
      },
      "source": [
        "#// BEGIN_TODO [Vis] (1 point)\n",
        "\n",
        "sns.scatterplot(x=   df_trials_clean['target_radius'].head(n=20) , y=df_reaction_2['reaction_time_2'])\n",
        "sns.scatterplot(x=   df_trials_clean['target_radius'].head(n=20) , y=df_trials_clean['total_time'])\n",
        "\n",
        "\n"
      ],
      "execution_count": 56,
      "outputs": [
        {
          "output_type": "execute_result",
          "data": {
            "text/plain": [
              "<matplotlib.axes._subplots.AxesSubplot at 0x7f9f0c677da0>"
            ]
          },
          "metadata": {
            "tags": []
          },
          "execution_count": 56
        },
        {
          "output_type": "display_data",
          "data": {
            "image/png": "[encoded data removed]",
            "text/plain": [
              "<Figure size 720x360 with 1 Axes>"
            ]
          },
          "metadata": {
            "tags": []
          }
        }
      ]
    },
    {
      "cell_type": "code",
      "metadata": {
        "id": "Dl7H97ToHEsh",
        "colab_type": "code",
        "colab": {}
      },
      "source": [
        "#// END_TODO [Vis]"
      ],
      "execution_count": 0,
      "outputs": []
    },
    {
      "cell_type": "markdown",
      "metadata": {
        "id": "0dB4Q5l7HEsn",
        "colab_type": "text"
      },
      "source": [
        "## Step 6. Formulate and test a hypothesis\n",
        "\n",
        "Formulate a null hypothesis and an alternative hypothesis. Store the null and alternative hypotheses as strings to variables `H_0` and `H_a` respectively. Consider either the reaction time in seconds, or the reaction time as a proportion of the total time of the trajectory."
      ]
    },
    {
      "cell_type": "code",
      "metadata": {
        "id": "idvZrQmOHEso",
        "colab_type": "code",
        "colab": {}
      },
      "source": [
        "#// BEGIN_TODO [Hypotheses] (1 point)\n",
        "H_0 = \"reaction time has no relation with target radius\"\n",
        "H_1 = \"reaction time decreases with target radius\"\n",
        "# ===== =====> Replace this line by your code. <===== ===== #\n"
      ],
      "execution_count": 0,
      "outputs": []
    },
    {
      "cell_type": "code",
      "metadata": {
        "id": "FQ6rfKVNHEsy",
        "colab_type": "code",
        "colab": {}
      },
      "source": [
        "#// END_TODO [Hypotheses]"
      ],
      "execution_count": 0,
      "outputs": []
    },
    {
      "cell_type": "markdown",
      "metadata": {
        "id": "pqbYZIBZHEs4",
        "colab_type": "text"
      },
      "source": [
        "Think about what type of test you want to use to test your hypothesis. Do you need to check certain conditions before you are allowed to test the hypothesis? If so, do so between the following TODO-markers."
      ]
    },
    {
      "cell_type": "code",
      "metadata": {
        "id": "WQ02xAxvHEs5",
        "colab_type": "code",
        "colab": {}
      },
      "source": [
        "#// BEGIN_TODO [Hyp_cond]\n",
        "\n",
        "# ===== =====> Replace this line by your code. <===== ===== #\n"
      ],
      "execution_count": 0,
      "outputs": []
    },
    {
      "cell_type": "code",
      "metadata": {
        "id": "waX_nyYNHEs-",
        "colab_type": "code",
        "colab": {}
      },
      "source": [
        "#// END_TODO [Hyp_cond]"
      ],
      "execution_count": 0,
      "outputs": []
    },
    {
      "cell_type": "markdown",
      "metadata": {
        "id": "8CZnpKbwHEtJ",
        "colab_type": "text"
      },
      "source": [
        "Finally perform the hypothesis test. Report the p-value of your test in the variable `pvalue`."
      ]
    },
    {
      "cell_type": "code",
      "metadata": {
        "id": "dB1m_w9mHEtK",
        "colab_type": "code",
        "colab": {
          "base_uri": "https://localhost:8080/",
          "height": 34
        },
        "outputId": "b3b47c3b-0674-4863-e69e-6e2ec013052a"
      },
      "source": [
        "#// BEGIN_TODO [Hyp_test] (2 points)\n",
        "\n",
        "from statsmodels.stats.weightstats import ttest_ind\n",
        "\n",
        "ttest = ttest_ind(df_trials_clean['target_radius'].head(n=20),df_trials_clean['total_time'])\n",
        "pvalue = ttest[1]\n",
        "pvalue"
      ],
      "execution_count": 65,
      "outputs": [
        {
          "output_type": "execute_result",
          "data": {
            "text/plain": [
              "0.0"
            ]
          },
          "metadata": {
            "tags": []
          },
          "execution_count": 65
        }
      ]
    },
    {
      "cell_type": "code",
      "metadata": {
        "id": "AZzGUBSuHEtS",
        "colab_type": "code",
        "colab": {}
      },
      "source": [
        "#// END_TODO [Hyp_test]"
      ],
      "execution_count": 0,
      "outputs": []
    },
    {
      "cell_type": "markdown",
      "metadata": {
        "id": "4shdNYooHEtb",
        "colab_type": "text"
      },
      "source": [
        "## Extra code for the poster\n",
        "\n",
        "You are required to write all extra code you used to make the poster between the marker lines labeled `[Poster]` below. In particular, make sure all extra visualizations on your poster are visible here."
      ]
    },
    {
      "cell_type": "code",
      "metadata": {
        "id": "-tFtz60sHEtb",
        "colab_type": "code",
        "colab": {}
      },
      "source": [
        "#// BEGIN_TODO [Poster] Room for text and code concerning your poster\n",
        "\n",
        "# ===== =====> Replace this line by your code. <===== ===== #\n"
      ],
      "execution_count": 0,
      "outputs": []
    },
    {
      "cell_type": "code",
      "metadata": {
        "id": "_E456GIAHEtg",
        "colab_type": "code",
        "colab": {}
      },
      "source": [
        "#// END_TODO [Poster]"
      ],
      "execution_count": 0,
      "outputs": []
    },
    {
      "cell_type": "markdown",
      "metadata": {
        "id": "4h0nraa0HEto",
        "colab_type": "text"
      },
      "source": [
        "# Feedback\n",
        "\n",
        "Please fill in this questionaire to help us improve this course for the next year. Your feedback will be anonymized and will not affect your grade in any way!"
      ]
    },
    {
      "cell_type": "markdown",
      "metadata": {
        "id": "FQmFbyttHEtp",
        "colab_type": "text"
      },
      "source": [
        "### How many hours did you spend on these Exercises?\n",
        "\n",
        "Assign a number to `feedback_time`."
      ]
    },
    {
      "cell_type": "code",
      "metadata": {
        "id": "a4AXugUFHEtq",
        "colab_type": "code",
        "colab": {}
      },
      "source": [
        "#// BEGIN_TODO [Feedback_1] (0 point)\n",
        "\n",
        "# ===== =====> Replace this line by your code. <===== ===== #\n",
        "\n",
        "#// END_TODO [Feedback_1] (0 point)\n",
        "\n",
        "import numbers\n",
        "assert isinstance(feedback_time, numbers.Number), \"Please assign a number to feedback_time\"\n",
        "feedback_time"
      ],
      "execution_count": 0,
      "outputs": []
    },
    {
      "cell_type": "markdown",
      "metadata": {
        "id": "vBY2GRzDHEts",
        "colab_type": "text"
      },
      "source": [
        "### How difficult did you find these Exercises?\n",
        "\n",
        "Assign an integer to `feedback_difficulty`, on a scale 1 - 10, with 1 being very easy."
      ]
    },
    {
      "cell_type": "code",
      "metadata": {
        "id": "dTBvcXA3HEtt",
        "colab_type": "code",
        "colab": {}
      },
      "source": [
        "#// BEGIN_TODO [Feedback_2] (0 point)\n",
        "\n",
        "# ===== =====> Replace this line by your code. <===== ===== #\n",
        "\n",
        "#// END_TODO [Feedback_2] (0 point)\n",
        "\n",
        "import numbers\n",
        "assert isinstance(feedback_difficulty, numbers.Number), \"Please assign a number to feedback_difficulty\"\n",
        "feedback_difficulty"
      ],
      "execution_count": 0,
      "outputs": []
    },
    {
      "cell_type": "markdown",
      "metadata": {
        "id": "h2wqAbj5HEt2",
        "colab_type": "text"
      },
      "source": [
        "### (Optional) What did you like?\n",
        "\n",
        "Assign a string to `feedback_like`."
      ]
    },
    {
      "cell_type": "code",
      "metadata": {
        "id": "xh8SOT7THEt5",
        "colab_type": "code",
        "colab": {}
      },
      "source": [
        "#// BEGIN_TODO [Feedback_3] (0 point)\n",
        "\n",
        "# ===== =====> Replace this line by your code. <===== ===== #\n",
        "\n",
        "#// END_TODO [Feedback_3] (0 point)"
      ],
      "execution_count": 0,
      "outputs": []
    },
    {
      "cell_type": "markdown",
      "metadata": {
        "id": "6w1DjZjjHEt-",
        "colab_type": "text"
      },
      "source": [
        "### (Optional) What can be improved?\n",
        "\n",
        "Assign a string to `feedback_improve`. Please be specific, so that we can act on your feedback. For example, mention the specific exercises and what was unclear or wrong with them."
      ]
    },
    {
      "cell_type": "code",
      "metadata": {
        "id": "kMVcjEXFHEt-",
        "colab_type": "code",
        "colab": {}
      },
      "source": [
        "#// BEGIN_TODO [Feedback_4] (0 point)\n",
        "\n",
        "# ===== =====> Replace this line by your code. <===== ===== #\n",
        "\n",
        "#// END_TODO [Feedback_4] (0 point)"
      ],
      "execution_count": 0,
      "outputs": []
    },
    {
      "cell_type": "markdown",
      "metadata": {
        "id": "zBJawAe0HEuG",
        "colab_type": "text"
      },
      "source": [
        "\n",
        "\n",
        "\n",
        "## How to submit your work\n",
        "\n",
        "1. **Before submitting**, you must run your notebook by doing **Kernel > Restart & Run All**.  \n",
        "   Make sure that your notebook runs without errors **in linear order**.\n",
        "\n",
        "2. Remember to rename the notebook, replacing `...-template.ipynb` with `...-yourIDnr.ipynb`, where `yourIDnr` is your identification number.\n",
        "\n",
        "3. Submit the executed notebook with your work\n",
        "   for the appropriate assignment in **Canvas**.\n",
        "\n",
        "* In the **Momotor** tab in Canvas,\n",
        "  you can select that assignment again to find some feedback on your submitted work.\n",
        "  \n",
        "* If there are any problems reported by _Momotor_,\n",
        "  then you need to fix those,\n",
        "  and **resubmit the fixed notebook**.\n",
        "\n",
        "In case of a high workload on our server\n",
        "(because many students submit close to the deadline),\n",
        "it may take longer to receive the feedback.\n"
      ]
    },
    {
      "cell_type": "markdown",
      "metadata": {
        "id": "D0uv155WHEuG",
        "colab_type": "text"
      },
      "source": [
        "---\n",
        "\n",
        "# List of all defined names"
      ]
    },
    {
      "cell_type": "code",
      "metadata": {
        "id": "ad4pXN7aHEuJ",
        "colab_type": "code",
        "colab": {}
      },
      "source": [
        "%whos"
      ],
      "execution_count": 0,
      "outputs": []
    },
    {
      "cell_type": "markdown",
      "metadata": {
        "id": "TogC4ZCcHEuP",
        "colab_type": "text"
      },
      "source": [
        "---\n",
        "\n",
        "# (End of Notebook)"
      ]
    }
  ]
}